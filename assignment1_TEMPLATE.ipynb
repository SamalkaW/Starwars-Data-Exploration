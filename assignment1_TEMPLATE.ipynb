{
 "cells": [
  {
   "cell_type": "markdown",
   "metadata": {},
   "source": [
    "# Assignment 1 - Practical Data Science with Python\n",
    "Name : Samalka Wedaratne Nanayakkara Talpe Merenchige <br>\n",
    "ID: s3758710"
   ]
  },
  {
   "cell_type": "markdown",
   "metadata": {},
   "source": [
    "### Data Preperation"
   ]
  },
  {
   "cell_type": "code",
   "execution_count": 1,
   "metadata": {
    "scrolled": true
   },
   "outputs": [
    {
     "data": {
      "text/html": [
       "<div>\n",
       "<style scoped>\n",
       "    .dataframe tbody tr th:only-of-type {\n",
       "        vertical-align: middle;\n",
       "    }\n",
       "\n",
       "    .dataframe tbody tr th {\n",
       "        vertical-align: top;\n",
       "    }\n",
       "\n",
       "    .dataframe thead th {\n",
       "        text-align: right;\n",
       "    }\n",
       "</style>\n",
       "<table border=\"1\" class=\"dataframe\">\n",
       "  <thead>\n",
       "    <tr style=\"text-align: right;\">\n",
       "      <th></th>\n",
       "      <th>RespondentID</th>\n",
       "      <th>Have you seen any of the 6 films in the Star Wars franchise?</th>\n",
       "      <th>Do you consider yourself to be a fan of the Star Wars film franchise?</th>\n",
       "      <th>Which of the following Star Wars films have you seen? Please select all that apply.</th>\n",
       "      <th>Unnamed: 4</th>\n",
       "      <th>Unnamed: 5</th>\n",
       "      <th>Unnamed: 6</th>\n",
       "      <th>Unnamed: 7</th>\n",
       "      <th>Unnamed: 8</th>\n",
       "      <th>Please rank the Star Wars films in order of preference with 1 being your favorite film in the franchise and 6 being your least favorite film.</th>\n",
       "      <th>...</th>\n",
       "      <th>Unnamed: 28</th>\n",
       "      <th>Which character shot first?</th>\n",
       "      <th>Are you familiar with the Expanded Universe?</th>\n",
       "      <th>Do you consider yourself to be a fan of the Expanded Universe?æ</th>\n",
       "      <th>Do you consider yourself to be a fan of the Star Trek franchise?</th>\n",
       "      <th>Gender</th>\n",
       "      <th>Age</th>\n",
       "      <th>Household Income</th>\n",
       "      <th>Education</th>\n",
       "      <th>Location (Census Region)</th>\n",
       "    </tr>\n",
       "  </thead>\n",
       "  <tbody>\n",
       "    <tr>\n",
       "      <td>0</td>\n",
       "      <td>NaN</td>\n",
       "      <td>Response</td>\n",
       "      <td>Response</td>\n",
       "      <td>Star Wars: Episode I  The Phantom Menace</td>\n",
       "      <td>Star Wars: Episode II  Attack of the Clones</td>\n",
       "      <td>Star Wars: Episode III  Revenge of the Sith</td>\n",
       "      <td>Star Wars: Episode IV  A New Hope</td>\n",
       "      <td>Star Wars: Episode V The Empire Strikes Back</td>\n",
       "      <td>Star Wars: Episode VI Return of the Jedi</td>\n",
       "      <td>Star Wars: Episode I  The Phantom Menace</td>\n",
       "      <td>...</td>\n",
       "      <td>Yoda</td>\n",
       "      <td>Response</td>\n",
       "      <td>Response</td>\n",
       "      <td>Response</td>\n",
       "      <td>Response</td>\n",
       "      <td>Response</td>\n",
       "      <td>Response</td>\n",
       "      <td>Response</td>\n",
       "      <td>Response</td>\n",
       "      <td>Response</td>\n",
       "    </tr>\n",
       "    <tr>\n",
       "      <td>1</td>\n",
       "      <td>3.292880e+09</td>\n",
       "      <td>Yes</td>\n",
       "      <td>Yes</td>\n",
       "      <td>Star Wars: Episode I  The Phantom Menace</td>\n",
       "      <td>Star Wars: Episode II  Attack of the Clones</td>\n",
       "      <td>Star Wars: Episode III  Revenge of the Sith</td>\n",
       "      <td>Star Wars: Episode IV  A New Hope</td>\n",
       "      <td>Star Wars: Episode V The Empire Strikes Back</td>\n",
       "      <td>Star Wars: Episode VI Return of the Jedi</td>\n",
       "      <td>3</td>\n",
       "      <td>...</td>\n",
       "      <td>Very favorably</td>\n",
       "      <td>I don't understand this question</td>\n",
       "      <td>Yes</td>\n",
       "      <td>No</td>\n",
       "      <td>No</td>\n",
       "      <td>Male</td>\n",
       "      <td>18-29</td>\n",
       "      <td>NaN</td>\n",
       "      <td>High school degree</td>\n",
       "      <td>South Atlantic</td>\n",
       "    </tr>\n",
       "    <tr>\n",
       "      <td>2</td>\n",
       "      <td>3.292880e+09</td>\n",
       "      <td>No</td>\n",
       "      <td>NaN</td>\n",
       "      <td>NaN</td>\n",
       "      <td>NaN</td>\n",
       "      <td>NaN</td>\n",
       "      <td>NaN</td>\n",
       "      <td>NaN</td>\n",
       "      <td>NaN</td>\n",
       "      <td>NaN</td>\n",
       "      <td>...</td>\n",
       "      <td>NaN</td>\n",
       "      <td>NaN</td>\n",
       "      <td>NaN</td>\n",
       "      <td>NaN</td>\n",
       "      <td>Yes</td>\n",
       "      <td>Male</td>\n",
       "      <td>18-29</td>\n",
       "      <td>$0 - $24,999</td>\n",
       "      <td>Bachelor degree</td>\n",
       "      <td>West South Central</td>\n",
       "    </tr>\n",
       "    <tr>\n",
       "      <td>3</td>\n",
       "      <td>3.292765e+09</td>\n",
       "      <td>Yes</td>\n",
       "      <td>No</td>\n",
       "      <td>Star Wars: Episode I  The Phantom Menace</td>\n",
       "      <td>Star Wars: Episode II  Attack of the Clones</td>\n",
       "      <td>Star Wars: Episode III  Revenge of the Sith</td>\n",
       "      <td>NaN</td>\n",
       "      <td>NaN</td>\n",
       "      <td>NaN</td>\n",
       "      <td>1</td>\n",
       "      <td>...</td>\n",
       "      <td>Unfamiliar (N/A)</td>\n",
       "      <td>I don't understand this question</td>\n",
       "      <td>No</td>\n",
       "      <td>NaN</td>\n",
       "      <td>No</td>\n",
       "      <td>Male</td>\n",
       "      <td>18-29</td>\n",
       "      <td>$0 - $24,999</td>\n",
       "      <td>High school degree</td>\n",
       "      <td>West North Central</td>\n",
       "    </tr>\n",
       "    <tr>\n",
       "      <td>4</td>\n",
       "      <td>3.292763e+09</td>\n",
       "      <td>Yes</td>\n",
       "      <td>Yes</td>\n",
       "      <td>Star Wars: Episode I  The Phantom Menace</td>\n",
       "      <td>Star Wars: Episode II  Attack of the Clones</td>\n",
       "      <td>Star Wars: Episode III  Revenge of the Sith</td>\n",
       "      <td>Star Wars: Episode IV  A New Hope</td>\n",
       "      <td>Star Wars: Episode V The Empire Strikes Back</td>\n",
       "      <td>Star Wars: Episode VI Return of the Jedi</td>\n",
       "      <td>5</td>\n",
       "      <td>...</td>\n",
       "      <td>Very favorably</td>\n",
       "      <td>I don't understand this question</td>\n",
       "      <td>No</td>\n",
       "      <td>NaN</td>\n",
       "      <td>Yes</td>\n",
       "      <td>Male</td>\n",
       "      <td>18-29</td>\n",
       "      <td>$100,000 - $149,999</td>\n",
       "      <td>Some college or Associate degree</td>\n",
       "      <td>West North Central</td>\n",
       "    </tr>\n",
       "  </tbody>\n",
       "</table>\n",
       "<p>5 rows × 38 columns</p>\n",
       "</div>"
      ],
      "text/plain": [
       "   RespondentID Have you seen any of the 6 films in the Star Wars franchise?  \\\n",
       "0           NaN                                           Response             \n",
       "1  3.292880e+09                                                Yes             \n",
       "2  3.292880e+09                                                 No             \n",
       "3  3.292765e+09                                                Yes             \n",
       "4  3.292763e+09                                                Yes             \n",
       "\n",
       "  Do you consider yourself to be a fan of the Star Wars film franchise?  \\\n",
       "0                                           Response                      \n",
       "1                                                Yes                      \n",
       "2                                                NaN                      \n",
       "3                                                 No                      \n",
       "4                                                Yes                      \n",
       "\n",
       "  Which of the following Star Wars films have you seen? Please select all that apply.  \\\n",
       "0           Star Wars: Episode I  The Phantom Menace                                    \n",
       "1           Star Wars: Episode I  The Phantom Menace                                    \n",
       "2                                                NaN                                    \n",
       "3           Star Wars: Episode I  The Phantom Menace                                    \n",
       "4           Star Wars: Episode I  The Phantom Menace                                    \n",
       "\n",
       "                                    Unnamed: 4  \\\n",
       "0  Star Wars: Episode II  Attack of the Clones   \n",
       "1  Star Wars: Episode II  Attack of the Clones   \n",
       "2                                          NaN   \n",
       "3  Star Wars: Episode II  Attack of the Clones   \n",
       "4  Star Wars: Episode II  Attack of the Clones   \n",
       "\n",
       "                                    Unnamed: 5  \\\n",
       "0  Star Wars: Episode III  Revenge of the Sith   \n",
       "1  Star Wars: Episode III  Revenge of the Sith   \n",
       "2                                          NaN   \n",
       "3  Star Wars: Episode III  Revenge of the Sith   \n",
       "4  Star Wars: Episode III  Revenge of the Sith   \n",
       "\n",
       "                          Unnamed: 6  \\\n",
       "0  Star Wars: Episode IV  A New Hope   \n",
       "1  Star Wars: Episode IV  A New Hope   \n",
       "2                                NaN   \n",
       "3                                NaN   \n",
       "4  Star Wars: Episode IV  A New Hope   \n",
       "\n",
       "                                     Unnamed: 7  \\\n",
       "0  Star Wars: Episode V The Empire Strikes Back   \n",
       "1  Star Wars: Episode V The Empire Strikes Back   \n",
       "2                                           NaN   \n",
       "3                                           NaN   \n",
       "4  Star Wars: Episode V The Empire Strikes Back   \n",
       "\n",
       "                                 Unnamed: 8  \\\n",
       "0  Star Wars: Episode VI Return of the Jedi   \n",
       "1  Star Wars: Episode VI Return of the Jedi   \n",
       "2                                       NaN   \n",
       "3                                       NaN   \n",
       "4  Star Wars: Episode VI Return of the Jedi   \n",
       "\n",
       "  Please rank the Star Wars films in order of preference with 1 being your favorite film in the franchise and 6 being your least favorite film.  \\\n",
       "0           Star Wars: Episode I  The Phantom Menace                                                                                              \n",
       "1                                                  3                                                                                              \n",
       "2                                                NaN                                                                                              \n",
       "3                                                  1                                                                                              \n",
       "4                                                  5                                                                                              \n",
       "\n",
       "   ...       Unnamed: 28       Which character shot first?  \\\n",
       "0  ...              Yoda                          Response   \n",
       "1  ...    Very favorably  I don't understand this question   \n",
       "2  ...               NaN                               NaN   \n",
       "3  ...  Unfamiliar (N/A)  I don't understand this question   \n",
       "4  ...    Very favorably  I don't understand this question   \n",
       "\n",
       "  Are you familiar with the Expanded Universe?  \\\n",
       "0                                     Response   \n",
       "1                                          Yes   \n",
       "2                                          NaN   \n",
       "3                                           No   \n",
       "4                                           No   \n",
       "\n",
       "  Do you consider yourself to be a fan of the Expanded Universe?æ  \\\n",
       "0                                           Response                 \n",
       "1                                                 No                 \n",
       "2                                                NaN                 \n",
       "3                                                NaN                 \n",
       "4                                                NaN                 \n",
       "\n",
       "  Do you consider yourself to be a fan of the Star Trek franchise?    Gender  \\\n",
       "0                                           Response                Response   \n",
       "1                                                 No                    Male   \n",
       "2                                                Yes                    Male   \n",
       "3                                                 No                    Male   \n",
       "4                                                Yes                    Male   \n",
       "\n",
       "        Age     Household Income                         Education  \\\n",
       "0  Response             Response                          Response   \n",
       "1     18-29                  NaN                High school degree   \n",
       "2     18-29         $0 - $24,999                   Bachelor degree   \n",
       "3     18-29         $0 - $24,999                High school degree   \n",
       "4     18-29  $100,000 - $149,999  Some college or Associate degree   \n",
       "\n",
       "  Location (Census Region)  \n",
       "0                 Response  \n",
       "1           South Atlantic  \n",
       "2       West South Central  \n",
       "3       West North Central  \n",
       "4       West North Central  \n",
       "\n",
       "[5 rows x 38 columns]"
      ]
     },
     "execution_count": 1,
     "metadata": {},
     "output_type": "execute_result"
    }
   ],
   "source": [
    "import pandas as pd \n",
    "import numpy as np\n",
    "import matplotlib.pyplot as plt\n",
    "#Loading the data, encoding is used to prevent the error previously got when loading without it.\n",
    "star1 = pd.read_csv('StarWars.csv',encoding = \"ISO-8859-1\", sep = ',') \n",
    "star = star1.copy()\n",
    "star.head(5)"
   ]
  },
  {
   "cell_type": "code",
   "execution_count": 2,
   "metadata": {
    "scrolled": false
   },
   "outputs": [
    {
     "data": {
      "text/plain": [
       "(1187, 38)"
      ]
     },
     "execution_count": 2,
     "metadata": {},
     "output_type": "execute_result"
    }
   ],
   "source": [
    "star.shape "
   ]
  },
  {
   "cell_type": "code",
   "execution_count": 3,
   "metadata": {
    "scrolled": false
   },
   "outputs": [
    {
     "data": {
      "text/html": [
       "<div>\n",
       "<style scoped>\n",
       "    .dataframe tbody tr th:only-of-type {\n",
       "        vertical-align: middle;\n",
       "    }\n",
       "\n",
       "    .dataframe tbody tr th {\n",
       "        vertical-align: top;\n",
       "    }\n",
       "\n",
       "    .dataframe thead th {\n",
       "        text-align: right;\n",
       "    }\n",
       "</style>\n",
       "<table border=\"1\" class=\"dataframe\">\n",
       "  <thead>\n",
       "    <tr style=\"text-align: right;\">\n",
       "      <th></th>\n",
       "      <th>RespondentID</th>\n",
       "      <th>Have you seen any of the 6 films in the Star Wars franchise?</th>\n",
       "      <th>Do you consider yourself to be a fan of the Star Wars film franchise?</th>\n",
       "      <th>Which of the following Star Wars films have you seen? Please select all that apply.</th>\n",
       "      <th>Unnamed: 4</th>\n",
       "      <th>Unnamed: 5</th>\n",
       "      <th>Unnamed: 6</th>\n",
       "      <th>Unnamed: 7</th>\n",
       "      <th>Unnamed: 8</th>\n",
       "      <th>Please rank the Star Wars films in order of preference with 1 being your favorite film in the franchise and 6 being your least favorite film.</th>\n",
       "      <th>...</th>\n",
       "      <th>Unnamed: 28</th>\n",
       "      <th>Which character shot first?</th>\n",
       "      <th>Are you familiar with the Expanded Universe?</th>\n",
       "      <th>Do you consider yourself to be a fan of the Expanded Universe?æ</th>\n",
       "      <th>Do you consider yourself to be a fan of the Star Trek franchise?</th>\n",
       "      <th>Gender</th>\n",
       "      <th>Age</th>\n",
       "      <th>Household Income</th>\n",
       "      <th>Education</th>\n",
       "      <th>Location (Census Region)</th>\n",
       "    </tr>\n",
       "  </thead>\n",
       "  <tbody>\n",
       "    <tr>\n",
       "      <td>1</td>\n",
       "      <td>3.292880e+09</td>\n",
       "      <td>Yes</td>\n",
       "      <td>Yes</td>\n",
       "      <td>Star Wars: Episode I  The Phantom Menace</td>\n",
       "      <td>Star Wars: Episode II  Attack of the Clones</td>\n",
       "      <td>Star Wars: Episode III  Revenge of the Sith</td>\n",
       "      <td>Star Wars: Episode IV  A New Hope</td>\n",
       "      <td>Star Wars: Episode V The Empire Strikes Back</td>\n",
       "      <td>Star Wars: Episode VI Return of the Jedi</td>\n",
       "      <td>3</td>\n",
       "      <td>...</td>\n",
       "      <td>Very favorably</td>\n",
       "      <td>I don't understand this question</td>\n",
       "      <td>Yes</td>\n",
       "      <td>No</td>\n",
       "      <td>No</td>\n",
       "      <td>Male</td>\n",
       "      <td>18-29</td>\n",
       "      <td>NaN</td>\n",
       "      <td>High school degree</td>\n",
       "      <td>South Atlantic</td>\n",
       "    </tr>\n",
       "    <tr>\n",
       "      <td>2</td>\n",
       "      <td>3.292880e+09</td>\n",
       "      <td>No</td>\n",
       "      <td>NaN</td>\n",
       "      <td>NaN</td>\n",
       "      <td>NaN</td>\n",
       "      <td>NaN</td>\n",
       "      <td>NaN</td>\n",
       "      <td>NaN</td>\n",
       "      <td>NaN</td>\n",
       "      <td>NaN</td>\n",
       "      <td>...</td>\n",
       "      <td>NaN</td>\n",
       "      <td>NaN</td>\n",
       "      <td>NaN</td>\n",
       "      <td>NaN</td>\n",
       "      <td>Yes</td>\n",
       "      <td>Male</td>\n",
       "      <td>18-29</td>\n",
       "      <td>$0 - $24,999</td>\n",
       "      <td>Bachelor degree</td>\n",
       "      <td>West South Central</td>\n",
       "    </tr>\n",
       "    <tr>\n",
       "      <td>3</td>\n",
       "      <td>3.292765e+09</td>\n",
       "      <td>Yes</td>\n",
       "      <td>No</td>\n",
       "      <td>Star Wars: Episode I  The Phantom Menace</td>\n",
       "      <td>Star Wars: Episode II  Attack of the Clones</td>\n",
       "      <td>Star Wars: Episode III  Revenge of the Sith</td>\n",
       "      <td>NaN</td>\n",
       "      <td>NaN</td>\n",
       "      <td>NaN</td>\n",
       "      <td>1</td>\n",
       "      <td>...</td>\n",
       "      <td>Unfamiliar (N/A)</td>\n",
       "      <td>I don't understand this question</td>\n",
       "      <td>No</td>\n",
       "      <td>NaN</td>\n",
       "      <td>No</td>\n",
       "      <td>Male</td>\n",
       "      <td>18-29</td>\n",
       "      <td>$0 - $24,999</td>\n",
       "      <td>High school degree</td>\n",
       "      <td>West North Central</td>\n",
       "    </tr>\n",
       "    <tr>\n",
       "      <td>4</td>\n",
       "      <td>3.292763e+09</td>\n",
       "      <td>Yes</td>\n",
       "      <td>Yes</td>\n",
       "      <td>Star Wars: Episode I  The Phantom Menace</td>\n",
       "      <td>Star Wars: Episode II  Attack of the Clones</td>\n",
       "      <td>Star Wars: Episode III  Revenge of the Sith</td>\n",
       "      <td>Star Wars: Episode IV  A New Hope</td>\n",
       "      <td>Star Wars: Episode V The Empire Strikes Back</td>\n",
       "      <td>Star Wars: Episode VI Return of the Jedi</td>\n",
       "      <td>5</td>\n",
       "      <td>...</td>\n",
       "      <td>Very favorably</td>\n",
       "      <td>I don't understand this question</td>\n",
       "      <td>No</td>\n",
       "      <td>NaN</td>\n",
       "      <td>Yes</td>\n",
       "      <td>Male</td>\n",
       "      <td>18-29</td>\n",
       "      <td>$100,000 - $149,999</td>\n",
       "      <td>Some college or Associate degree</td>\n",
       "      <td>West North Central</td>\n",
       "    </tr>\n",
       "  </tbody>\n",
       "</table>\n",
       "<p>4 rows × 38 columns</p>\n",
       "</div>"
      ],
      "text/plain": [
       "   RespondentID Have you seen any of the 6 films in the Star Wars franchise?  \\\n",
       "1  3.292880e+09                                                Yes             \n",
       "2  3.292880e+09                                                 No             \n",
       "3  3.292765e+09                                                Yes             \n",
       "4  3.292763e+09                                                Yes             \n",
       "\n",
       "  Do you consider yourself to be a fan of the Star Wars film franchise?  \\\n",
       "1                                                Yes                      \n",
       "2                                                NaN                      \n",
       "3                                                 No                      \n",
       "4                                                Yes                      \n",
       "\n",
       "  Which of the following Star Wars films have you seen? Please select all that apply.  \\\n",
       "1           Star Wars: Episode I  The Phantom Menace                                    \n",
       "2                                                NaN                                    \n",
       "3           Star Wars: Episode I  The Phantom Menace                                    \n",
       "4           Star Wars: Episode I  The Phantom Menace                                    \n",
       "\n",
       "                                    Unnamed: 4  \\\n",
       "1  Star Wars: Episode II  Attack of the Clones   \n",
       "2                                          NaN   \n",
       "3  Star Wars: Episode II  Attack of the Clones   \n",
       "4  Star Wars: Episode II  Attack of the Clones   \n",
       "\n",
       "                                    Unnamed: 5  \\\n",
       "1  Star Wars: Episode III  Revenge of the Sith   \n",
       "2                                          NaN   \n",
       "3  Star Wars: Episode III  Revenge of the Sith   \n",
       "4  Star Wars: Episode III  Revenge of the Sith   \n",
       "\n",
       "                          Unnamed: 6  \\\n",
       "1  Star Wars: Episode IV  A New Hope   \n",
       "2                                NaN   \n",
       "3                                NaN   \n",
       "4  Star Wars: Episode IV  A New Hope   \n",
       "\n",
       "                                     Unnamed: 7  \\\n",
       "1  Star Wars: Episode V The Empire Strikes Back   \n",
       "2                                           NaN   \n",
       "3                                           NaN   \n",
       "4  Star Wars: Episode V The Empire Strikes Back   \n",
       "\n",
       "                                 Unnamed: 8  \\\n",
       "1  Star Wars: Episode VI Return of the Jedi   \n",
       "2                                       NaN   \n",
       "3                                       NaN   \n",
       "4  Star Wars: Episode VI Return of the Jedi   \n",
       "\n",
       "  Please rank the Star Wars films in order of preference with 1 being your favorite film in the franchise and 6 being your least favorite film.  \\\n",
       "1                                                  3                                                                                              \n",
       "2                                                NaN                                                                                              \n",
       "3                                                  1                                                                                              \n",
       "4                                                  5                                                                                              \n",
       "\n",
       "   ...       Unnamed: 28       Which character shot first?  \\\n",
       "1  ...    Very favorably  I don't understand this question   \n",
       "2  ...               NaN                               NaN   \n",
       "3  ...  Unfamiliar (N/A)  I don't understand this question   \n",
       "4  ...    Very favorably  I don't understand this question   \n",
       "\n",
       "  Are you familiar with the Expanded Universe?  \\\n",
       "1                                          Yes   \n",
       "2                                          NaN   \n",
       "3                                           No   \n",
       "4                                           No   \n",
       "\n",
       "  Do you consider yourself to be a fan of the Expanded Universe?æ  \\\n",
       "1                                                 No                 \n",
       "2                                                NaN                 \n",
       "3                                                NaN                 \n",
       "4                                                NaN                 \n",
       "\n",
       "  Do you consider yourself to be a fan of the Star Trek franchise? Gender  \\\n",
       "1                                                 No                 Male   \n",
       "2                                                Yes                 Male   \n",
       "3                                                 No                 Male   \n",
       "4                                                Yes                 Male   \n",
       "\n",
       "     Age     Household Income                         Education  \\\n",
       "1  18-29                  NaN                High school degree   \n",
       "2  18-29         $0 - $24,999                   Bachelor degree   \n",
       "3  18-29         $0 - $24,999                High school degree   \n",
       "4  18-29  $100,000 - $149,999  Some college or Associate degree   \n",
       "\n",
       "  Location (Census Region)  \n",
       "1           South Atlantic  \n",
       "2       West South Central  \n",
       "3       West North Central  \n",
       "4       West North Central  \n",
       "\n",
       "[4 rows x 38 columns]"
      ]
     },
     "execution_count": 3,
     "metadata": {},
     "output_type": "execute_result"
    }
   ],
   "source": [
    "star = star[star['RespondentID'].notna()] #Since Null values in responder ID column means invalid response, getting rid of them. \n",
    "star.head(4)"
   ]
  },
  {
   "cell_type": "code",
   "execution_count": 4,
   "metadata": {},
   "outputs": [
    {
     "data": {
      "text/plain": [
       "(1186, 38)"
      ]
     },
     "execution_count": 4,
     "metadata": {},
     "output_type": "execute_result"
    }
   ],
   "source": [
    "star.shape #The resulting shape of the dataset after dropping the NAs of respoder ID."
   ]
  },
  {
   "cell_type": "code",
   "execution_count": 5,
   "metadata": {},
   "outputs": [
    {
     "data": {
      "text/plain": [
       "Index(['RespondentID',\n",
       "       'Have you seen any of the 6 films in the Star Wars franchise?',\n",
       "       'Do you consider yourself to be a fan of the Star Wars film franchise?',\n",
       "       'Which of the following Star Wars films have you seen? Please select all that apply.',\n",
       "       'Unnamed: 4', 'Unnamed: 5', 'Unnamed: 6', 'Unnamed: 7', 'Unnamed: 8',\n",
       "       'Please rank the Star Wars films in order of preference with 1 being your favorite film in the franchise and 6 being your least favorite film.',\n",
       "       'Unnamed: 10', 'Unnamed: 11', 'Unnamed: 12', 'Unnamed: 13',\n",
       "       'Unnamed: 14',\n",
       "       'Please state whether you view the following characters favorably, unfavorably, or are unfamiliar with him/her.',\n",
       "       'Unnamed: 16', 'Unnamed: 17', 'Unnamed: 18', 'Unnamed: 19',\n",
       "       'Unnamed: 20', 'Unnamed: 21', 'Unnamed: 22', 'Unnamed: 23',\n",
       "       'Unnamed: 24', 'Unnamed: 25', 'Unnamed: 26', 'Unnamed: 27',\n",
       "       'Unnamed: 28', 'Which character shot first?',\n",
       "       'Are you familiar with the Expanded Universe?',\n",
       "       'Do you consider yourself to be a fan of the Expanded Universe?æ',\n",
       "       'Do you consider yourself to be a fan of the Star Trek franchise?',\n",
       "       'Gender', 'Age', 'Household Income', 'Education',\n",
       "       'Location (Census Region)'],\n",
       "      dtype='object')"
      ]
     },
     "execution_count": 5,
     "metadata": {},
     "output_type": "execute_result"
    }
   ],
   "source": [
    "star.columns"
   ]
  },
  {
   "cell_type": "markdown",
   "metadata": {},
   "source": [
    "Renaming the Columns"
   ]
  },
  {
   "cell_type": "code",
   "execution_count": 6,
   "metadata": {
    "scrolled": true
   },
   "outputs": [
    {
     "data": {
      "text/html": [
       "<div>\n",
       "<style scoped>\n",
       "    .dataframe tbody tr th:only-of-type {\n",
       "        vertical-align: middle;\n",
       "    }\n",
       "\n",
       "    .dataframe tbody tr th {\n",
       "        vertical-align: top;\n",
       "    }\n",
       "\n",
       "    .dataframe thead th {\n",
       "        text-align: right;\n",
       "    }\n",
       "</style>\n",
       "<table border=\"1\" class=\"dataframe\">\n",
       "  <thead>\n",
       "    <tr style=\"text-align: right;\">\n",
       "      <th></th>\n",
       "      <th>RespondentID</th>\n",
       "      <th>Have you seen any of the 6 films in the Star Wars franchise?</th>\n",
       "      <th>Do you consider yourself to be a fan of the Star Wars film franchise?</th>\n",
       "      <th>Watch/Episode I</th>\n",
       "      <th>Watch/Episode II</th>\n",
       "      <th>Watch/Episode III</th>\n",
       "      <th>Watch/Episode IV</th>\n",
       "      <th>Watch/Episode V</th>\n",
       "      <th>Watch/Episode VI</th>\n",
       "      <th>Prefer I</th>\n",
       "      <th>...</th>\n",
       "      <th>Yoda</th>\n",
       "      <th>Which character shot first?</th>\n",
       "      <th>Are you familiar with the Expanded Universe?</th>\n",
       "      <th>Do you consider yourself to be a fan of the Expanded Universe?</th>\n",
       "      <th>Do you consider yourself to be a fan of the Star Trek franchise?</th>\n",
       "      <th>Gender</th>\n",
       "      <th>Age</th>\n",
       "      <th>Household Income</th>\n",
       "      <th>Education</th>\n",
       "      <th>Location (Census Region)</th>\n",
       "    </tr>\n",
       "  </thead>\n",
       "  <tbody>\n",
       "    <tr>\n",
       "      <td>1</td>\n",
       "      <td>3.292880e+09</td>\n",
       "      <td>Yes</td>\n",
       "      <td>Yes</td>\n",
       "      <td>Star Wars: Episode I  The Phantom Menace</td>\n",
       "      <td>Star Wars: Episode II  Attack of the Clones</td>\n",
       "      <td>Star Wars: Episode III  Revenge of the Sith</td>\n",
       "      <td>Star Wars: Episode IV  A New Hope</td>\n",
       "      <td>Star Wars: Episode V The Empire Strikes Back</td>\n",
       "      <td>Star Wars: Episode VI Return of the Jedi</td>\n",
       "      <td>3</td>\n",
       "      <td>...</td>\n",
       "      <td>Very favorably</td>\n",
       "      <td>I don't understand this question</td>\n",
       "      <td>Yes</td>\n",
       "      <td>No</td>\n",
       "      <td>No</td>\n",
       "      <td>Male</td>\n",
       "      <td>18-29</td>\n",
       "      <td>NaN</td>\n",
       "      <td>High school degree</td>\n",
       "      <td>South Atlantic</td>\n",
       "    </tr>\n",
       "    <tr>\n",
       "      <td>2</td>\n",
       "      <td>3.292880e+09</td>\n",
       "      <td>No</td>\n",
       "      <td>NaN</td>\n",
       "      <td>NaN</td>\n",
       "      <td>NaN</td>\n",
       "      <td>NaN</td>\n",
       "      <td>NaN</td>\n",
       "      <td>NaN</td>\n",
       "      <td>NaN</td>\n",
       "      <td>NaN</td>\n",
       "      <td>...</td>\n",
       "      <td>NaN</td>\n",
       "      <td>NaN</td>\n",
       "      <td>NaN</td>\n",
       "      <td>NaN</td>\n",
       "      <td>Yes</td>\n",
       "      <td>Male</td>\n",
       "      <td>18-29</td>\n",
       "      <td>$0 - $24,999</td>\n",
       "      <td>Bachelor degree</td>\n",
       "      <td>West South Central</td>\n",
       "    </tr>\n",
       "  </tbody>\n",
       "</table>\n",
       "<p>2 rows × 38 columns</p>\n",
       "</div>"
      ],
      "text/plain": [
       "   RespondentID Have you seen any of the 6 films in the Star Wars franchise?  \\\n",
       "1  3.292880e+09                                                Yes             \n",
       "2  3.292880e+09                                                 No             \n",
       "\n",
       "  Do you consider yourself to be a fan of the Star Wars film franchise?  \\\n",
       "1                                                Yes                      \n",
       "2                                                NaN                      \n",
       "\n",
       "                            Watch/Episode I  \\\n",
       "1  Star Wars: Episode I  The Phantom Menace   \n",
       "2                                       NaN   \n",
       "\n",
       "                              Watch/Episode II  \\\n",
       "1  Star Wars: Episode II  Attack of the Clones   \n",
       "2                                          NaN   \n",
       "\n",
       "                             Watch/Episode III  \\\n",
       "1  Star Wars: Episode III  Revenge of the Sith   \n",
       "2                                          NaN   \n",
       "\n",
       "                    Watch/Episode IV  \\\n",
       "1  Star Wars: Episode IV  A New Hope   \n",
       "2                                NaN   \n",
       "\n",
       "                                Watch/Episode V  \\\n",
       "1  Star Wars: Episode V The Empire Strikes Back   \n",
       "2                                           NaN   \n",
       "\n",
       "                           Watch/Episode VI Prefer I  ...            Yoda  \\\n",
       "1  Star Wars: Episode VI Return of the Jedi        3  ...  Very favorably   \n",
       "2                                       NaN      NaN  ...             NaN   \n",
       "\n",
       "        Which character shot first?  \\\n",
       "1  I don't understand this question   \n",
       "2                               NaN   \n",
       "\n",
       "  Are you familiar with the Expanded Universe?  \\\n",
       "1                                          Yes   \n",
       "2                                          NaN   \n",
       "\n",
       "  Do you consider yourself to be a fan of the Expanded Universe?  \\\n",
       "1                                                 No               \n",
       "2                                                NaN               \n",
       "\n",
       "  Do you consider yourself to be a fan of the Star Trek franchise? Gender  \\\n",
       "1                                                 No                 Male   \n",
       "2                                                Yes                 Male   \n",
       "\n",
       "     Age Household Income           Education Location (Census Region)  \n",
       "1  18-29              NaN  High school degree           South Atlantic  \n",
       "2  18-29     $0 - $24,999     Bachelor degree       West South Central  \n",
       "\n",
       "[2 rows x 38 columns]"
      ]
     },
     "execution_count": 6,
     "metadata": {},
     "output_type": "execute_result"
    }
   ],
   "source": [
    "star.rename(columns={'Which of the following Star Wars films have you seen? Please select all that apply.': 'Watch/Episode I', 'Unnamed: 4': 'Watch/Episode II',\n",
    "                    'Unnamed: 5':'Watch/Episode III', 'Unnamed: 6':'Watch/Episode IV','Unnamed: 7':'Watch/Episode V','Unnamed: 8':'Watch/Episode VI',\n",
    "                     'Please rank the Star Wars films in order of preference with 1 being your favorite film in the franchise and 6 being your least favorite film.':'Prefer I',\n",
    "                    'Unnamed: 10':'Prefer II', 'Unnamed: 11':'Prefer III','Unnamed: 12':'Prefer IV','Unnamed: 13':'Prefer V','Unnamed: 14':'Prefer VI',\n",
    "                    'Please state whether you view the following characters favorably, unfavorably, or are unfamiliar with him/her.':'Han Solo','Unnamed: 16':'Luke Skywalker',\n",
    "                    'Unnamed: 17':'Leia Organa','Unnamed: 18':'Anakin Skywalker','Unnamed: 19':'Obi Wan Kenobi','Unnamed: 20':'Emperor Palpatine',\n",
    "                    'Unnamed: 21':'Darth Vader','Unnamed: 22':'Lando Calrissian','Unnamed: 23':'Boba Fett','Unnamed: 24':'C-3P0','Unnamed: 25':'R2 D2','Unnamed: 26':'Jar Jar Binks',\n",
    "                    'Unnamed: 27':'Padme Amidala','Unnamed: 28':'Yoda','Do you consider yourself to be a fan of the Expanded Universe?æ':'Do you consider yourself to be a fan of the Expanded Universe?'}, inplace = True)\n",
    "star.head(2)"
   ]
  },
  {
   "cell_type": "markdown",
   "metadata": {},
   "source": [
    "Pre Processing the already Exsisting Yes/No Questions"
   ]
  },
  {
   "cell_type": "code",
   "execution_count": 7,
   "metadata": {},
   "outputs": [
    {
     "data": {
      "text/plain": [
       "Yes     935\n",
       "No      250\n",
       "Yes       1\n",
       "Name: Have you seen any of the 6 films in the Star Wars franchise?, dtype: int64"
      ]
     },
     "execution_count": 7,
     "metadata": {},
     "output_type": "execute_result"
    }
   ],
   "source": [
    "star['Have you seen any of the 6 films in the Star Wars franchise?'].value_counts()"
   ]
  },
  {
   "cell_type": "code",
   "execution_count": 8,
   "metadata": {},
   "outputs": [
    {
     "data": {
      "text/plain": [
       "Yes    936\n",
       "No     250\n",
       "Name: Have you seen any of the 6 films in the Star Wars franchise?, dtype: int64"
      ]
     },
     "execution_count": 8,
     "metadata": {},
     "output_type": "execute_result"
    }
   ],
   "source": [
    "star['Have you seen any of the 6 films in the Star Wars franchise?'] = star['Have you seen any of the 6 films in the Star Wars franchise?'].str.strip()\n",
    "star['Have you seen any of the 6 films in the Star Wars franchise?'].value_counts()"
   ]
  },
  {
   "cell_type": "code",
   "execution_count": 9,
   "metadata": {
    "scrolled": true
   },
   "outputs": [
    {
     "data": {
      "text/plain": [
       "Yes     551\n",
       "No      283\n",
       "Noo       1\n",
       "Yess      1\n",
       "Name: Do you consider yourself to be a fan of the Star Wars film franchise?, dtype: int64"
      ]
     },
     "execution_count": 9,
     "metadata": {},
     "output_type": "execute_result"
    }
   ],
   "source": [
    "star['Do you consider yourself to be a fan of the Star Wars film franchise?'].value_counts()"
   ]
  },
  {
   "cell_type": "code",
   "execution_count": 10,
   "metadata": {},
   "outputs": [
    {
     "data": {
      "text/plain": [
       "Yes    552\n",
       "No     284\n",
       "Name: Do you consider yourself to be a fan of the Star Wars film franchise?, dtype: int64"
      ]
     },
     "execution_count": 10,
     "metadata": {},
     "output_type": "execute_result"
    }
   ],
   "source": [
    "star['Do you consider yourself to be a fan of the Star Wars film franchise?'].replace('Yess', 'Yes', inplace=True)\n",
    "star['Do you consider yourself to be a fan of the Star Wars film franchise?'].replace('Noo','No', inplace = True)\n",
    "star['Do you consider yourself to be a fan of the Star Wars film franchise?'].value_counts()"
   ]
  },
  {
   "cell_type": "code",
   "execution_count": 11,
   "metadata": {},
   "outputs": [
    {
     "data": {
      "text/plain": [
       "No     615\n",
       "Yes    213\n",
       "Name: Are you familiar with the Expanded Universe?, dtype: int64"
      ]
     },
     "execution_count": 11,
     "metadata": {},
     "output_type": "execute_result"
    }
   ],
   "source": [
    "star['Are you familiar with the Expanded Universe?'].value_counts()"
   ]
  },
  {
   "cell_type": "code",
   "execution_count": 12,
   "metadata": {},
   "outputs": [
    {
     "data": {
      "text/plain": [
       "No      114\n",
       "Yes      98\n",
       "Yess      1\n",
       "Name: Do you consider yourself to be a fan of the Expanded Universe?, dtype: int64"
      ]
     },
     "execution_count": 12,
     "metadata": {},
     "output_type": "execute_result"
    }
   ],
   "source": [
    "star['Do you consider yourself to be a fan of the Expanded Universe?'].value_counts()"
   ]
  },
  {
   "cell_type": "code",
   "execution_count": 13,
   "metadata": {},
   "outputs": [
    {
     "data": {
      "text/plain": [
       "No     114\n",
       "Yes     99\n",
       "Name: Do you consider yourself to be a fan of the Expanded Universe?, dtype: int64"
      ]
     },
     "execution_count": 13,
     "metadata": {},
     "output_type": "execute_result"
    }
   ],
   "source": [
    "star['Do you consider yourself to be a fan of the Expanded Universe?'].replace('Yess','Yes', inplace = True)\n",
    "star['Do you consider yourself to be a fan of the Expanded Universe?'].value_counts()"
   ]
  },
  {
   "cell_type": "code",
   "execution_count": 14,
   "metadata": {},
   "outputs": [
    {
     "data": {
      "text/plain": [
       "No     639\n",
       "Yes    426\n",
       "Noo      1\n",
       "yes      1\n",
       "no       1\n",
       "Name: Do you consider yourself to be a fan of the Star Trek franchise?, dtype: int64"
      ]
     },
     "execution_count": 14,
     "metadata": {},
     "output_type": "execute_result"
    }
   ],
   "source": [
    "star['Do you consider yourself to be a fan of the Star Trek franchise?'].value_counts()"
   ]
  },
  {
   "cell_type": "code",
   "execution_count": 15,
   "metadata": {
    "scrolled": true
   },
   "outputs": [
    {
     "data": {
      "text/plain": [
       "No     641\n",
       "Yes    427\n",
       "Name: Do you consider yourself to be a fan of the Star Trek franchise?, dtype: int64"
      ]
     },
     "execution_count": 15,
     "metadata": {},
     "output_type": "execute_result"
    }
   ],
   "source": [
    "star['Do you consider yourself to be a fan of the Star Trek franchise?'].replace('yes','Yes', inplace = True)\n",
    "star['Do you consider yourself to be a fan of the Star Trek franchise?'].replace('no ','No', inplace = True) #First tried without the space, didn't work so added a space and tried. works\n",
    "star['Do you consider yourself to be a fan of the Star Trek franchise?'].replace('Noo','No', inplace = True)\n",
    "star['Do you consider yourself to be a fan of the Star Trek franchise?'].value_counts()"
   ]
  },
  {
   "cell_type": "markdown",
   "metadata": {},
   "source": [
    "Missing Values"
   ]
  },
  {
   "cell_type": "code",
   "execution_count": 16,
   "metadata": {},
   "outputs": [
    {
     "data": {
      "text/plain": [
       "RespondentID                                                               0\n",
       "Have you seen any of the 6 films in the Star Wars franchise?               0\n",
       "Do you consider yourself to be a fan of the Star Wars film franchise?    350\n",
       "Watch/Episode I                                                          513\n",
       "Watch/Episode II                                                         615\n",
       "Watch/Episode III                                                        636\n",
       "Watch/Episode IV                                                         579\n",
       "Watch/Episode V                                                          428\n",
       "Watch/Episode VI                                                         448\n",
       "Prefer I                                                                 351\n",
       "Prefer II                                                                350\n",
       "Prefer III                                                               351\n",
       "Prefer IV                                                                350\n",
       "Prefer V                                                                 350\n",
       "Prefer VI                                                                350\n",
       "Han Solo                                                                 357\n",
       "Luke Skywalker                                                           355\n",
       "Leia Organa                                                              355\n",
       "Anakin Skywalker                                                         363\n",
       "Obi Wan Kenobi                                                           361\n",
       "Emperor Palpatine                                                        372\n",
       "Darth Vader                                                              360\n",
       "Lando Calrissian                                                         366\n",
       "Boba Fett                                                                374\n",
       "C-3P0                                                                    359\n",
       "R2 D2                                                                    356\n",
       "Jar Jar Binks                                                            365\n",
       "Padme Amidala                                                            372\n",
       "Yoda                                                                     360\n",
       "Which character shot first?                                              358\n",
       "Are you familiar with the Expanded Universe?                             358\n",
       "Do you consider yourself to be a fan of the Expanded Universe?           973\n",
       "Do you consider yourself to be a fan of the Star Trek franchise?         118\n",
       "Gender                                                                   140\n",
       "Age                                                                      140\n",
       "Household Income                                                         328\n",
       "Education                                                                150\n",
       "Location (Census Region)                                                 143\n",
       "dtype: int64"
      ]
     },
     "execution_count": 16,
     "metadata": {},
     "output_type": "execute_result"
    }
   ],
   "source": [
    "\n",
    "star.isna().sum()"
   ]
  },
  {
   "cell_type": "markdown",
   "metadata": {},
   "source": [
    "Cleaning the columns such as Watch/Episode I with a 'Yes' if it's filled as 'Star Wars: Episode I The Phantom Menance' as this <br> \n",
    "means 'Yes' after looking through the original dataset. The null values in these columns are representing \"No I haven't watched\""
   ]
  },
  {
   "cell_type": "code",
   "execution_count": 17,
   "metadata": {},
   "outputs": [],
   "source": [
    "star['Watch/Episode I'].replace('Star Wars: Episode I  The Phantom Menace','Yes', inplace = True)\n",
    "star['Watch/Episode II'].replace('Star Wars: Episode II  Attack of the Clones','Yes', inplace = True)\n",
    "star['Watch/Episode III'].replace('Star Wars: Episode III  Revenge of the Sith','Yes', inplace = True)\n",
    "star['Watch/Episode IV'].replace('Star Wars: Episode IV  A New Hope','Yes', inplace = True)\n",
    "star['Watch/Episode V'].replace('Star Wars: Episode V  The Empire Strikes Back','Yes', inplace = True)\n",
    "star['Watch/Episode VI'].replace('Star Wars: Episode VI  Return of the Jedi','Yes', inplace = True)\n",
    "#There is a space between the episode number and the name\n",
    "\n",
    "star[['Watch/Episode I']] = star[['Watch/Episode I']].fillna('No')\n",
    "star[['Watch/Episode II']] = star[['Watch/Episode I']].fillna('No')\n",
    "star[['Watch/Episode III']] = star[['Watch/Episode I']].fillna('No')\n",
    "star[['Watch/Episode IV']] = star[['Watch/Episode I']].fillna('No')\n",
    "star[['Watch/Episode V']] = star[['Watch/Episode I']].fillna('No')\n",
    "star[['Watch/Episode VI']] = star[['Watch/Episode I']].fillna('No')"
   ]
  },
  {
   "cell_type": "code",
   "execution_count": 18,
   "metadata": {},
   "outputs": [],
   "source": [
    "#Since these are the people who have'nt watched Starwars episodes it's only fair to keep them seperated with a -1\n",
    "star[['Prefer I']] = star[['Prefer I']].fillna('-1')\n",
    "star[['Prefer II']] = star[['Prefer II']].fillna('-1')\n",
    "star[['Prefer III']] = star[['Prefer III']].fillna('-1')\n",
    "star[['Prefer IV']] = star[['Prefer IV']].fillna('-1')\n",
    "star[['Prefer V']] = star[['Prefer V']].fillna('-1')\n",
    "star[['Prefer VI']] = star[['Prefer VI']].fillna('-1')"
   ]
  },
  {
   "cell_type": "markdown",
   "metadata": {},
   "source": [
    "Imputing with 'Not/Ap' (Not Applicable) for NAN values"
   ]
  },
  {
   "cell_type": "code",
   "execution_count": 19,
   "metadata": {},
   "outputs": [],
   "source": [
    "#Filling the nan with a \"Not Applicable\" in the 2nd column as filling them with Yes/No might bias the set. \n",
    "star[['Do you consider yourself to be a fan of the Star Wars film franchise?']] = star[['Do you consider yourself to be a fan of the Star Wars film franchise?']].fillna('Not/Ap')"
   ]
  },
  {
   "cell_type": "code",
   "execution_count": 20,
   "metadata": {},
   "outputs": [],
   "source": [
    "for col in star.columns[15:33]:\n",
    "    star[col]=star[col].fillna('Not/Ap')"
   ]
  },
  {
   "cell_type": "markdown",
   "metadata": {},
   "source": [
    "White spaces, irregularities check, and sanity checks"
   ]
  },
  {
   "cell_type": "code",
   "execution_count": 21,
   "metadata": {},
   "outputs": [
    {
     "data": {
      "text/plain": [
       "Female    546\n",
       "Male      496\n",
       "female      2\n",
       "F           1\n",
       "male        1\n",
       "Name: Gender, dtype: int64"
      ]
     },
     "execution_count": 21,
     "metadata": {},
     "output_type": "execute_result"
    }
   ],
   "source": [
    "star['Gender'].value_counts()\n"
   ]
  },
  {
   "cell_type": "code",
   "execution_count": 22,
   "metadata": {},
   "outputs": [
    {
     "data": {
      "text/plain": [
       "Female    549\n",
       "Male      497\n",
       "Name: Gender, dtype: int64"
      ]
     },
     "execution_count": 22,
     "metadata": {},
     "output_type": "execute_result"
    }
   ],
   "source": [
    "star['Gender'].replace('female','Female', inplace = True)\n",
    "star['Gender'].replace('male','Male', inplace = True)\n",
    "star['Gender'].replace('F','Female', inplace = True)\n",
    "star['Gender'].value_counts()"
   ]
  },
  {
   "cell_type": "code",
   "execution_count": 23,
   "metadata": {},
   "outputs": [
    {
     "data": {
      "text/plain": [
       "0    Female\n",
       "dtype: object"
      ]
     },
     "execution_count": 23,
     "metadata": {},
     "output_type": "execute_result"
    }
   ],
   "source": [
    "#Filling the gender column's missing values with the mode\n",
    "star['Gender'].mode()"
   ]
  },
  {
   "cell_type": "code",
   "execution_count": 24,
   "metadata": {},
   "outputs": [
    {
     "data": {
      "text/plain": [
       "Female    689\n",
       "Male      497\n",
       "Name: Gender, dtype: int64"
      ]
     },
     "execution_count": 24,
     "metadata": {},
     "output_type": "execute_result"
    }
   ],
   "source": [
    "star[['Gender']] = star[['Gender']].fillna('Female')\n",
    "star['Gender'].value_counts()"
   ]
  },
  {
   "cell_type": "code",
   "execution_count": 25,
   "metadata": {},
   "outputs": [
    {
     "data": {
      "text/plain": [
       "45-60    291\n",
       "> 60     269\n",
       "30-44    268\n",
       "18-29    217\n",
       "500        1\n",
       "Name: Age, dtype: int64"
      ]
     },
     "execution_count": 25,
     "metadata": {},
     "output_type": "execute_result"
    }
   ],
   "source": [
    "star['Age'].value_counts()\n",
    "#For Sanity Check"
   ]
  },
  {
   "cell_type": "code",
   "execution_count": 26,
   "metadata": {
    "scrolled": true
   },
   "outputs": [
    {
     "data": {
      "text/plain": [
       "45-60    292\n",
       "> 60     269\n",
       "30-44    268\n",
       "18-29    217\n",
       "Name: Age, dtype: int64"
      ]
     },
     "execution_count": 26,
     "metadata": {},
     "output_type": "execute_result"
    }
   ],
   "source": [
    "#Since there can't be someone of age 500, Assuming it's an additional 0 and taking the age as 50. \n",
    "#Imputing as 45-60 which also seems to be the mode, hence a valid imputation\n",
    "star['Age'].replace('500','45-60', inplace = True)\n",
    "star['Age'].value_counts()\n",
    " "
   ]
  },
  {
   "cell_type": "markdown",
   "metadata": {},
   "source": [
    "Using Mode in Demographic Data to fill in the Null Values."
   ]
  },
  {
   "cell_type": "code",
   "execution_count": 27,
   "metadata": {},
   "outputs": [],
   "source": [
    "#Filling missing values with mode for Age\n",
    "#No need to use mode() function as the previous value counts also shows the mode. \n",
    "#Hence sanity checks, misspelled words and also the mode can be seen using value_counts()\n",
    "star[['Age']] = star[['Age']].fillna('45-60')"
   ]
  },
  {
   "cell_type": "code",
   "execution_count": 28,
   "metadata": {},
   "outputs": [
    {
     "data": {
      "text/plain": [
       "$50,000 - $99,999      298\n",
       "$25,000 - $49,999      186\n",
       "$100,000 - $149,999    141\n",
       "$0 - $24,999           138\n",
       "$150,000+               95\n",
       "Name: Household Income, dtype: int64"
      ]
     },
     "execution_count": 28,
     "metadata": {},
     "output_type": "execute_result"
    }
   ],
   "source": [
    "star['Household Income'].value_counts()"
   ]
  },
  {
   "cell_type": "code",
   "execution_count": 29,
   "metadata": {},
   "outputs": [],
   "source": [
    "star[['Household Income']] = star[['Household Income']].fillna('$50,000 - $99,999')"
   ]
  },
  {
   "cell_type": "code",
   "execution_count": 30,
   "metadata": {},
   "outputs": [
    {
     "data": {
      "text/plain": [
       "Some college or Associate degree    328\n",
       "Bachelor degree                     321\n",
       "Graduate degree                     275\n",
       "High school degree                  105\n",
       "Less than high school degree          7\n",
       "Name: Education, dtype: int64"
      ]
     },
     "execution_count": 30,
     "metadata": {},
     "output_type": "execute_result"
    }
   ],
   "source": [
    "star['Education'].value_counts()"
   ]
  },
  {
   "cell_type": "code",
   "execution_count": 31,
   "metadata": {},
   "outputs": [],
   "source": [
    "star[['Education']] = star[['Education']].fillna('Some college or Associate degree')"
   ]
  },
  {
   "cell_type": "code",
   "execution_count": 32,
   "metadata": {},
   "outputs": [
    {
     "data": {
      "text/plain": [
       "Some college or Associate degree    478\n",
       "Bachelor degree                     321\n",
       "Graduate degree                     275\n",
       "High school degree                  105\n",
       "Less than high school degree          7\n",
       "Name: Education, dtype: int64"
      ]
     },
     "execution_count": 32,
     "metadata": {},
     "output_type": "execute_result"
    }
   ],
   "source": [
    "star['Education'].value_counts()"
   ]
  },
  {
   "cell_type": "code",
   "execution_count": 33,
   "metadata": {},
   "outputs": [
    {
     "data": {
      "text/plain": [
       "East North Central    181\n",
       "Pacific               175\n",
       "South Atlantic        170\n",
       "Middle Atlantic       122\n",
       "West South Central    110\n",
       "West North Central     93\n",
       "Mountain               79\n",
       "New England            75\n",
       "East South Central     38\n",
       "Name: Location (Census Region), dtype: int64"
      ]
     },
     "execution_count": 33,
     "metadata": {},
     "output_type": "execute_result"
    }
   ],
   "source": [
    "star['Location (Census Region)'].value_counts()"
   ]
  },
  {
   "cell_type": "code",
   "execution_count": 34,
   "metadata": {},
   "outputs": [],
   "source": [
    "star[['Location (Census Region)']] = star[['Location (Census Region)']].fillna('East North Central')"
   ]
  },
  {
   "cell_type": "markdown",
   "metadata": {},
   "source": [
    "Now all NAN values have been filled appropriately."
   ]
  },
  {
   "cell_type": "code",
   "execution_count": 35,
   "metadata": {},
   "outputs": [
    {
     "data": {
      "text/plain": [
       "RespondentID                                                             0\n",
       "Have you seen any of the 6 films in the Star Wars franchise?             0\n",
       "Do you consider yourself to be a fan of the Star Wars film franchise?    0\n",
       "Watch/Episode I                                                          0\n",
       "Watch/Episode II                                                         0\n",
       "Watch/Episode III                                                        0\n",
       "Watch/Episode IV                                                         0\n",
       "Watch/Episode V                                                          0\n",
       "Watch/Episode VI                                                         0\n",
       "Prefer I                                                                 0\n",
       "Prefer II                                                                0\n",
       "Prefer III                                                               0\n",
       "Prefer IV                                                                0\n",
       "Prefer V                                                                 0\n",
       "Prefer VI                                                                0\n",
       "Han Solo                                                                 0\n",
       "Luke Skywalker                                                           0\n",
       "Leia Organa                                                              0\n",
       "Anakin Skywalker                                                         0\n",
       "Obi Wan Kenobi                                                           0\n",
       "Emperor Palpatine                                                        0\n",
       "Darth Vader                                                              0\n",
       "Lando Calrissian                                                         0\n",
       "Boba Fett                                                                0\n",
       "C-3P0                                                                    0\n",
       "R2 D2                                                                    0\n",
       "Jar Jar Binks                                                            0\n",
       "Padme Amidala                                                            0\n",
       "Yoda                                                                     0\n",
       "Which character shot first?                                              0\n",
       "Are you familiar with the Expanded Universe?                             0\n",
       "Do you consider yourself to be a fan of the Expanded Universe?           0\n",
       "Do you consider yourself to be a fan of the Star Trek franchise?         0\n",
       "Gender                                                                   0\n",
       "Age                                                                      0\n",
       "Household Income                                                         0\n",
       "Education                                                                0\n",
       "Location (Census Region)                                                 0\n",
       "dtype: int64"
      ]
     },
     "execution_count": 35,
     "metadata": {},
     "output_type": "execute_result"
    }
   ],
   "source": [
    "star.isna().sum()"
   ]
  },
  {
   "cell_type": "code",
   "execution_count": 36,
   "metadata": {},
   "outputs": [
    {
     "data": {
      "text/html": [
       "<div>\n",
       "<style scoped>\n",
       "    .dataframe tbody tr th:only-of-type {\n",
       "        vertical-align: middle;\n",
       "    }\n",
       "\n",
       "    .dataframe tbody tr th {\n",
       "        vertical-align: top;\n",
       "    }\n",
       "\n",
       "    .dataframe thead th {\n",
       "        text-align: right;\n",
       "    }\n",
       "</style>\n",
       "<table border=\"1\" class=\"dataframe\">\n",
       "  <thead>\n",
       "    <tr style=\"text-align: right;\">\n",
       "      <th></th>\n",
       "      <th>RespondentID</th>\n",
       "      <th>Have you seen any of the 6 films in the Star Wars franchise?</th>\n",
       "      <th>Do you consider yourself to be a fan of the Star Wars film franchise?</th>\n",
       "      <th>Watch/Episode I</th>\n",
       "      <th>Watch/Episode II</th>\n",
       "      <th>Watch/Episode III</th>\n",
       "      <th>Watch/Episode IV</th>\n",
       "      <th>Watch/Episode V</th>\n",
       "      <th>Watch/Episode VI</th>\n",
       "      <th>Prefer I</th>\n",
       "      <th>...</th>\n",
       "      <th>Yoda</th>\n",
       "      <th>Which character shot first?</th>\n",
       "      <th>Are you familiar with the Expanded Universe?</th>\n",
       "      <th>Do you consider yourself to be a fan of the Expanded Universe?</th>\n",
       "      <th>Do you consider yourself to be a fan of the Star Trek franchise?</th>\n",
       "      <th>Gender</th>\n",
       "      <th>Age</th>\n",
       "      <th>Household Income</th>\n",
       "      <th>Education</th>\n",
       "      <th>Location (Census Region)</th>\n",
       "    </tr>\n",
       "  </thead>\n",
       "  <tbody>\n",
       "    <tr>\n",
       "      <td>1</td>\n",
       "      <td>3.292880e+09</td>\n",
       "      <td>Yes</td>\n",
       "      <td>Yes</td>\n",
       "      <td>Yes</td>\n",
       "      <td>Yes</td>\n",
       "      <td>Yes</td>\n",
       "      <td>Yes</td>\n",
       "      <td>Yes</td>\n",
       "      <td>Yes</td>\n",
       "      <td>3</td>\n",
       "      <td>...</td>\n",
       "      <td>Very favorably</td>\n",
       "      <td>I don't understand this question</td>\n",
       "      <td>Yes</td>\n",
       "      <td>No</td>\n",
       "      <td>No</td>\n",
       "      <td>Male</td>\n",
       "      <td>18-29</td>\n",
       "      <td>$50,000 - $99,999</td>\n",
       "      <td>High school degree</td>\n",
       "      <td>South Atlantic</td>\n",
       "    </tr>\n",
       "    <tr>\n",
       "      <td>2</td>\n",
       "      <td>3.292880e+09</td>\n",
       "      <td>No</td>\n",
       "      <td>Not/Ap</td>\n",
       "      <td>No</td>\n",
       "      <td>No</td>\n",
       "      <td>No</td>\n",
       "      <td>No</td>\n",
       "      <td>No</td>\n",
       "      <td>No</td>\n",
       "      <td>-1</td>\n",
       "      <td>...</td>\n",
       "      <td>Not/Ap</td>\n",
       "      <td>Not/Ap</td>\n",
       "      <td>Not/Ap</td>\n",
       "      <td>Not/Ap</td>\n",
       "      <td>Yes</td>\n",
       "      <td>Male</td>\n",
       "      <td>18-29</td>\n",
       "      <td>$0 - $24,999</td>\n",
       "      <td>Bachelor degree</td>\n",
       "      <td>West South Central</td>\n",
       "    </tr>\n",
       "    <tr>\n",
       "      <td>3</td>\n",
       "      <td>3.292765e+09</td>\n",
       "      <td>Yes</td>\n",
       "      <td>No</td>\n",
       "      <td>Yes</td>\n",
       "      <td>Yes</td>\n",
       "      <td>Yes</td>\n",
       "      <td>Yes</td>\n",
       "      <td>Yes</td>\n",
       "      <td>Yes</td>\n",
       "      <td>1</td>\n",
       "      <td>...</td>\n",
       "      <td>Unfamiliar (N/A)</td>\n",
       "      <td>I don't understand this question</td>\n",
       "      <td>No</td>\n",
       "      <td>Not/Ap</td>\n",
       "      <td>No</td>\n",
       "      <td>Male</td>\n",
       "      <td>18-29</td>\n",
       "      <td>$0 - $24,999</td>\n",
       "      <td>High school degree</td>\n",
       "      <td>West North Central</td>\n",
       "    </tr>\n",
       "    <tr>\n",
       "      <td>4</td>\n",
       "      <td>3.292763e+09</td>\n",
       "      <td>Yes</td>\n",
       "      <td>Yes</td>\n",
       "      <td>Yes</td>\n",
       "      <td>Yes</td>\n",
       "      <td>Yes</td>\n",
       "      <td>Yes</td>\n",
       "      <td>Yes</td>\n",
       "      <td>Yes</td>\n",
       "      <td>5</td>\n",
       "      <td>...</td>\n",
       "      <td>Very favorably</td>\n",
       "      <td>I don't understand this question</td>\n",
       "      <td>No</td>\n",
       "      <td>Not/Ap</td>\n",
       "      <td>Yes</td>\n",
       "      <td>Male</td>\n",
       "      <td>18-29</td>\n",
       "      <td>$100,000 - $149,999</td>\n",
       "      <td>Some college or Associate degree</td>\n",
       "      <td>West North Central</td>\n",
       "    </tr>\n",
       "  </tbody>\n",
       "</table>\n",
       "<p>4 rows × 38 columns</p>\n",
       "</div>"
      ],
      "text/plain": [
       "   RespondentID Have you seen any of the 6 films in the Star Wars franchise?  \\\n",
       "1  3.292880e+09                                                Yes             \n",
       "2  3.292880e+09                                                 No             \n",
       "3  3.292765e+09                                                Yes             \n",
       "4  3.292763e+09                                                Yes             \n",
       "\n",
       "  Do you consider yourself to be a fan of the Star Wars film franchise?  \\\n",
       "1                                                Yes                      \n",
       "2                                             Not/Ap                      \n",
       "3                                                 No                      \n",
       "4                                                Yes                      \n",
       "\n",
       "  Watch/Episode I Watch/Episode II Watch/Episode III Watch/Episode IV  \\\n",
       "1             Yes              Yes               Yes              Yes   \n",
       "2              No               No                No               No   \n",
       "3             Yes              Yes               Yes              Yes   \n",
       "4             Yes              Yes               Yes              Yes   \n",
       "\n",
       "  Watch/Episode V Watch/Episode VI Prefer I  ...              Yoda  \\\n",
       "1             Yes              Yes        3  ...    Very favorably   \n",
       "2              No               No       -1  ...            Not/Ap   \n",
       "3             Yes              Yes        1  ...  Unfamiliar (N/A)   \n",
       "4             Yes              Yes        5  ...    Very favorably   \n",
       "\n",
       "        Which character shot first?  \\\n",
       "1  I don't understand this question   \n",
       "2                            Not/Ap   \n",
       "3  I don't understand this question   \n",
       "4  I don't understand this question   \n",
       "\n",
       "  Are you familiar with the Expanded Universe?  \\\n",
       "1                                          Yes   \n",
       "2                                       Not/Ap   \n",
       "3                                           No   \n",
       "4                                           No   \n",
       "\n",
       "  Do you consider yourself to be a fan of the Expanded Universe?  \\\n",
       "1                                                 No               \n",
       "2                                             Not/Ap               \n",
       "3                                             Not/Ap               \n",
       "4                                             Not/Ap               \n",
       "\n",
       "  Do you consider yourself to be a fan of the Star Trek franchise? Gender  \\\n",
       "1                                                 No                 Male   \n",
       "2                                                Yes                 Male   \n",
       "3                                                 No                 Male   \n",
       "4                                                Yes                 Male   \n",
       "\n",
       "     Age     Household Income                         Education  \\\n",
       "1  18-29    $50,000 - $99,999                High school degree   \n",
       "2  18-29         $0 - $24,999                   Bachelor degree   \n",
       "3  18-29         $0 - $24,999                High school degree   \n",
       "4  18-29  $100,000 - $149,999  Some college or Associate degree   \n",
       "\n",
       "  Location (Census Region)  \n",
       "1           South Atlantic  \n",
       "2       West South Central  \n",
       "3       West North Central  \n",
       "4       West North Central  \n",
       "\n",
       "[4 rows x 38 columns]"
      ]
     },
     "execution_count": 36,
     "metadata": {},
     "output_type": "execute_result"
    }
   ],
   "source": [
    "star.head(4)"
   ]
  },
  {
   "cell_type": "markdown",
   "metadata": {},
   "source": [
    "### Data Exploration"
   ]
  },
  {
   "cell_type": "markdown",
   "metadata": {},
   "source": [
    "#### Part 1 - Explore the Survey Question on Ranking Star Wars Episodes"
   ]
  },
  {
   "cell_type": "markdown",
   "metadata": {},
   "source": [
    "6 Plots will be drawn for the 6 Episodes of Star Wars to avoid complications. "
   ]
  },
  {
   "cell_type": "code",
   "execution_count": 37,
   "metadata": {},
   "outputs": [
    {
     "data": {
      "image/png": "[encoded data removed]",
      "text/plain": [
       "<Figure size 432x288 with 1 Axes>"
      ]
     },
     "metadata": {
      "needs_background": "light"
     },
     "output_type": "display_data"
    }
   ],
   "source": [
    "\n",
    "#Plotting for Episode I\n",
    "ep1rank1 = sum(star['Prefer I']=='1')\n",
    "ep1rank2 = sum(star['Prefer I']=='2')\n",
    "ep1rank3 = sum(star['Prefer I']=='3')\n",
    "ep1rank4 = sum(star['Prefer I']=='4')\n",
    "ep1rank5 = sum(star['Prefer I']=='5')\n",
    "ep1rank6 = sum(star['Prefer I']=='6')\n",
    "\n",
    "height1 = [ep1rank1, ep1rank2, ep1rank3, ep1rank4, ep1rank5, ep1rank6]\n",
    "bars1 = ('1', '2', '3', '4', '5','6')\n",
    "y_pos1 = np.arange(len(bars1))\n",
    "plt.bar(y_pos1, height1)\n",
    "plt.xticks(y_pos1, bars1)\n",
    "plt.xlabel('Rank')\n",
    "plt.title('Star Wars Episode I')\n",
    "plt.show()\n",
    " "
   ]
  },
  {
   "cell_type": "code",
   "execution_count": 38,
   "metadata": {},
   "outputs": [
    {
     "data": {
      "image/png": "[encoded data removed]",
      "text/plain": [
       "<Figure size 432x288 with 1 Axes>"
      ]
     },
     "metadata": {
      "needs_background": "light"
     },
     "output_type": "display_data"
    }
   ],
   "source": [
    "#Plotting for Episode II\n",
    "ep2rank1 = sum(star['Prefer II']=='1')\n",
    "ep2rank2 = sum(star['Prefer II']=='2')\n",
    "ep2rank3 = sum(star['Prefer II']=='3')\n",
    "ep2rank4 = sum(star['Prefer II']=='4')\n",
    "ep2rank5 = sum(star['Prefer II']=='5')\n",
    "ep2rank6 = sum(star['Prefer II']=='6')\n",
    "\n",
    "height2 = [ep2rank1, ep2rank2, ep2rank3, ep2rank4, ep2rank5, ep2rank6]\n",
    "plt.bar(y_pos1, height2, color ='navy')\n",
    "plt.xticks(y_pos1, bars1)\n",
    "plt.xlabel('Rank')\n",
    "plt.title('Star Wars Episode II')\n",
    "plt.show()    "
   ]
  },
  {
   "cell_type": "code",
   "execution_count": 39,
   "metadata": {},
   "outputs": [
    {
     "data": {
      "image/png": "[encoded data removed]",
      "text/plain": [
       "<Figure size 432x288 with 1 Axes>"
      ]
     },
     "metadata": {
      "needs_background": "light"
     },
     "output_type": "display_data"
    }
   ],
   "source": [
    "#Plotting for Episode III\n",
    "ep3rank1 = sum(star['Prefer III']=='1')\n",
    "ep3rank2 = sum(star['Prefer III']=='2')\n",
    "ep3rank3 = sum(star['Prefer III']=='3')\n",
    "ep3rank4 = sum(star['Prefer III']=='4')\n",
    "ep3rank5 = sum(star['Prefer III']=='5')\n",
    "ep3rank6 = sum(star['Prefer III']=='6')\n",
    "\n",
    "height3 = [ep3rank1, ep3rank2, ep3rank3, ep3rank4, ep3rank5, ep3rank6]\n",
    "plt.bar(y_pos1, height3, color ='darkorchid')\n",
    "plt.xticks(y_pos1, bars1)\n",
    "plt.xlabel('Rank')\n",
    "plt.title('Star Wars Episode III')\n",
    "plt.show()    "
   ]
  },
  {
   "cell_type": "code",
   "execution_count": 40,
   "metadata": {},
   "outputs": [
    {
     "data": {
      "image/png": "[encoded data removed]",
      "text/plain": [
       "<Figure size 432x288 with 1 Axes>"
      ]
     },
     "metadata": {
      "needs_background": "light"
     },
     "output_type": "display_data"
    }
   ],
   "source": [
    "#Plotting for Episode IV\n",
    "ep4rank1 = sum(star['Prefer IV']=='1')\n",
    "ep4rank2 = sum(star['Prefer IV']=='2')\n",
    "ep4rank3 = sum(star['Prefer IV']=='3')\n",
    "ep4rank4 = sum(star['Prefer IV']=='4')\n",
    "ep4rank5 = sum(star['Prefer IV']=='5')\n",
    "ep4rank6 = sum(star['Prefer IV']=='6')\n",
    "\n",
    "height4 = [ep4rank1, ep4rank2, ep4rank3, ep4rank4, ep4rank5, ep4rank6]\n",
    "plt.bar(y_pos1, height4, color ='mediumvioletred')\n",
    "plt.xticks(y_pos1, bars1)\n",
    "plt.xlabel('Rank')\n",
    "plt.title('Star Wars Episode IV')\n",
    "plt.show()    "
   ]
  },
  {
   "cell_type": "code",
   "execution_count": 41,
   "metadata": {},
   "outputs": [
    {
     "data": {
      "image/png": "[encoded data removed]",
      "text/plain": [
       "<Figure size 432x288 with 1 Axes>"
      ]
     },
     "metadata": {
      "needs_background": "light"
     },
     "output_type": "display_data"
    }
   ],
   "source": [
    "#Plotting for Episode V\n",
    "ep5rank1 = sum(star['Prefer V']=='1')\n",
    "ep5rank2 = sum(star['Prefer V']=='2')\n",
    "ep5rank3 = sum(star['Prefer V']=='3')\n",
    "ep5rank4 = sum(star['Prefer V']=='4')\n",
    "ep5rank5 = sum(star['Prefer V']=='5')\n",
    "ep5rank6 = sum(star['Prefer V']=='6')\n",
    "\n",
    "height5 = [ep5rank1, ep5rank2, ep5rank3, ep5rank4, ep5rank5, ep5rank6]\n",
    "plt.bar(y_pos1, height5, color ='crimson')\n",
    "plt.xticks(y_pos1, bars1)\n",
    "plt.xlabel('Rank')\n",
    "plt.title('Star Wars Episode V')\n",
    "plt.show()    "
   ]
  },
  {
   "cell_type": "code",
   "execution_count": 42,
   "metadata": {},
   "outputs": [
    {
     "data": {
      "image/png": "[encoded data removed]",
      "text/plain": [
       "<Figure size 432x288 with 1 Axes>"
      ]
     },
     "metadata": {
      "needs_background": "light"
     },
     "output_type": "display_data"
    }
   ],
   "source": [
    "#Plotting for Episode VI\n",
    "ep6rank1 = sum(star['Prefer VI']=='1')\n",
    "ep6rank2 = sum(star['Prefer VI']=='2')\n",
    "ep6rank3 = sum(star['Prefer VI']=='3')\n",
    "ep6rank4 = sum(star['Prefer VI']=='4')\n",
    "ep6rank5 = sum(star['Prefer VI']=='5')\n",
    "ep6rank6 = sum(star['Prefer VI']=='6')\n",
    "\n",
    "height6 = [ep6rank1, ep6rank2, ep6rank3, ep6rank4, ep6rank5, ep6rank6]\n",
    "plt.bar(y_pos1, height6, color ='maroon')\n",
    "plt.xticks(y_pos1, bars1)\n",
    "plt.xlabel('Rank')\n",
    "plt.title('Star Wars Episode VI')\n",
    "plt.show()    "
   ]
  },
  {
   "cell_type": "markdown",
   "metadata": {},
   "source": [
    "#### Part 2 Relationship between Columns with Plausible Hypothesis"
   ]
  },
  {
   "cell_type": "code",
   "execution_count": null,
   "metadata": {},
   "outputs": [],
   "source": []
  },
  {
   "cell_type": "markdown",
   "metadata": {},
   "source": [
    "Columns *Have you seen any of the 6 films in the Star Wars franchise?* and *Gender*\n"
   ]
  },
  {
   "cell_type": "code",
   "execution_count": 43,
   "metadata": {
    "scrolled": false
   },
   "outputs": [
    {
     "data": {
      "image/png": "[encoded data removed]",
      "text/plain": [
       "<Figure size 432x288 with 1 Axes>"
      ]
     },
     "metadata": {},
     "output_type": "display_data"
    }
   ],
   "source": [
    "#Hypothesis: Men are more familiar with Star Wars Movies\n",
    "males = star[star[\"Gender\"] == \"Male\"]\n",
    "females = star[star[\"Gender\"] == \"Female\"]\n",
    "\n",
    "yesMale = sum(males['Have you seen any of the 6 films in the Star Wars franchise?']=='Yes')\n",
    "yesFemale = sum(females['Have you seen any of the 6 films in the Star Wars franchise?']=='Yes')\n",
    "\n",
    "b = ('Male', 'Female')\n",
    "h = [yesMale, yesFemale]\n",
    "\n",
    "colors = ['darkcyan', 'crimson']\n",
    "plt.pie(h, labels=b, colors=colors, startangle=90, autopct='%.1f%%')\n",
    "plt.title('Who are more familiar with Star Wars Men or Women')\n",
    "plt.show()"
   ]
  },
  {
   "cell_type": "markdown",
   "metadata": {},
   "source": [
    "Character Columns *C-3P0* and *Han Solo*"
   ]
  },
  {
   "cell_type": "code",
   "execution_count": 44,
   "metadata": {},
   "outputs": [
    {
     "data": {
      "image/png": "[encoded data removed]",
      "text/plain": [
       "<Figure size 432x288 with 1 Axes>"
      ]
     },
     "metadata": {},
     "output_type": "display_data"
    }
   ],
   "source": [
    "#Hypothesis: C-3P0 is very favourable than Han Solo \n",
    "Han = sum(star['Han Solo']=='Very favorably')\n",
    "C3 = sum(star['C-3P0']=='Very favorably')\n",
    "\n",
    "l = ('Han', 'C-3P0')\n",
    "hi = [Han, C3]\n",
    "\n",
    "colors = ['silver', 'sandybrown']\n",
    "plt.pie(hi, labels=l, colors=colors, startangle=90, autopct='%.1f%%')\n",
    "plt.title('Is Han Solo more favourable than C-3P0')\n",
    "plt.show()"
   ]
  },
  {
   "cell_type": "markdown",
   "metadata": {},
   "source": [
    "Columns *Do you consider yourself to be a fan of the Star Wars film franchise?* and \n",
    "*Do you consider yourself to be a fan of the Star Trek franchise?*"
   ]
  },
  {
   "cell_type": "code",
   "execution_count": 45,
   "metadata": {},
   "outputs": [
    {
     "data": {
      "image/png": "[encoded data removed]",
      "text/plain": [
       "<Figure size 432x288 with 1 Axes>"
      ]
     },
     "metadata": {},
     "output_type": "display_data"
    }
   ],
   "source": [
    "#Hypothesis : There are more fans for Star Wars Film Franchise than for Star Trek Franchise\n",
    "YesSt = sum(star['Do you consider yourself to be a fan of the Star Wars film franchise?']=='Yes')\n",
    "YesEx = sum(star['Do you consider yourself to be a fan of the Star Trek franchise?']=='Yes')\n",
    "le = ('Star Wars', 'Star Trek')\n",
    "hii = [YesSt, YesEx]\n",
    "\n",
    "colors = ['orchid', 'lightsalmon']\n",
    "plt.pie(hii, labels=le, colors=colors, startangle=90, autopct='%.1f%%')\n",
    "plt.title('Fans for Star Wars Episodes vs Star Trek')\n",
    "plt.show()"
   ]
  },
  {
   "cell_type": "markdown",
   "metadata": {},
   "source": [
    "#### Part 3 - Relationship between Attitude/ Favourability for  Characters according to their Demographic Data."
   ]
  },
  {
   "cell_type": "markdown",
   "metadata": {},
   "source": [
    "Since Accounting for all the Characters at once can be complicated, 2  characters were chosen, namely Han Solo and Jar Jar and were tested seperately for the Demographic Data Columns. "
   ]
  },
  {
   "cell_type": "code",
   "execution_count": 46,
   "metadata": {},
   "outputs": [
    {
     "data": {
      "text/plain": [
       "Very favorably                                 311\n",
       "Not/Ap                                          78\n",
       "Somewhat favorably                              76\n",
       "Neither favorably nor unfavorably (neutral)     21\n",
       "Unfamiliar (N/A)                                 6\n",
       "Somewhat unfavorably                             4\n",
       "Very unfavorably                                 1\n",
       "Name: Han Solo, dtype: int64"
      ]
     },
     "execution_count": 46,
     "metadata": {},
     "output_type": "execute_result"
    }
   ],
   "source": [
    "males['Han Solo'].value_counts()"
   ]
  },
  {
   "cell_type": "code",
   "execution_count": null,
   "metadata": {
    "scrolled": true
   },
   "outputs": [],
   "source": []
  },
  {
   "cell_type": "code",
   "execution_count": 47,
   "metadata": {
    "scrolled": true
   },
   "outputs": [
    {
     "data": {
      "text/plain": [
       "$50,000 - $99,999      626\n",
       "$25,000 - $49,999      186\n",
       "$100,000 - $149,999    141\n",
       "$0 - $24,999           138\n",
       "$150,000+               95\n",
       "Name: Household Income, dtype: int64"
      ]
     },
     "execution_count": 47,
     "metadata": {},
     "output_type": "execute_result"
    }
   ],
   "source": [
    "star['Household Income'].value_counts()"
   ]
  },
  {
   "cell_type": "markdown",
   "metadata": {},
   "source": [
    "**Han Solo's favourability and Household Income**"
   ]
  },
  {
   "cell_type": "code",
   "execution_count": 48,
   "metadata": {
    "scrolled": true
   },
   "outputs": [
    {
     "data": {
      "image/png": "[encoded data removed]",
      "text/plain": [
       "<Figure size 1080x360 with 1 Axes>"
      ]
     },
     "metadata": {
      "needs_background": "light"
     },
     "output_type": "display_data"
    }
   ],
   "source": [
    "d1 = star[[\"Han Solo\",\"Luke Skywalker\",\"Leia Organa\",\"Anakin Skywalker\",\"Obi Wan Kenobi\",\"Emperor Palpatine\",\n",
    "         \"Darth Vader\", \"Lando Calrissian\",\"Boba Fett\",\"C-3P0\",\"R2 D2\",\"Jar Jar Binks\",\"Padme Amidala\",\"Yoda\",\"Gender\",\"Age\",\n",
    "           \"Household Income\",\"Education\",\"Location (Census Region)\"]]\n",
    "\n",
    "#Filtering out the 'Not/Ap' data in the set as we do not want it to be displayed in our plots.\n",
    "d1 = d1[(d1['Han Solo']!='Not/Ap')&(d1['Luke Skywalker']!='Not/Ap')&(d1['Leia Organa']!='Not/Ap')&(d1['Anakin Skywalker']!='Not/Ap')&\n",
    "     (d1['Obi Wan Kenobi']!='Not/Ap')&(d1['Emperor Palpatine']!='Not/Ap')&(d1['Darth Vader']!='Not/Ap')&\n",
    "    (d1['Lando Calrissian']!='Not/Ap')&(d1['Boba Fett']!='Not/Ap')& (d1['C-3P0']!='Not/Ap')&(d1['R2 D2']!='Not/Ap')&\n",
    "     (d1['Jar Jar Binks']!='Not/Ap')&(d1['Padme Amidala']!='Not/Ap')&(d1['Yoda']!='Not/Ap')]\n",
    "\n",
    "#Household Income and Han Solo's Favourability\n",
    "order = ['$0 - $24,999','$25,000 - $49,999','$50,000 - $99,999','$100,000 - $149,999','$150,000+']\n",
    "grp1 = d1[['Han Solo','Household Income']].groupby(['Household Income','Han Solo'])\n",
    "reordr = grp1.size().reindex(order,level=0)\n",
    "reordr.unstack().plot.bar(figsize = (15,5),title='Han Solos Favorability with Income')\n",
    "plt.savefig('HanHouse.png')\n"
   ]
  },
  {
   "cell_type": "markdown",
   "metadata": {},
   "source": [
    "**Jar Jar's favourability and Household Income**"
   ]
  },
  {
   "cell_type": "code",
   "execution_count": 49,
   "metadata": {
    "scrolled": true
   },
   "outputs": [
    {
     "data": {
      "image/png": "[encoded data removed]",
      "text/plain": [
       "<Figure size 1080x360 with 1 Axes>"
      ]
     },
     "metadata": {
      "needs_background": "light"
     },
     "output_type": "display_data"
    }
   ],
   "source": [
    "#Household Income and Jar Jar Favourability\n",
    "grp2 = d1[['Jar Jar Binks','Household Income']].groupby(['Household Income','Jar Jar Binks'])\n",
    "reordr2 = grp2.size().reindex(order,level=0)\n",
    "reordr2.unstack().plot.bar(figsize = (15,5),title='Jar Jar Binks Favorability with Income')\n",
    "plt.savefig('JarHouse.png')"
   ]
  },
  {
   "cell_type": "code",
   "execution_count": 50,
   "metadata": {},
   "outputs": [
    {
     "data": {
      "text/plain": [
       "45-60    432\n",
       "> 60     269\n",
       "30-44    268\n",
       "18-29    217\n",
       "Name: Age, dtype: int64"
      ]
     },
     "execution_count": 50,
     "metadata": {},
     "output_type": "execute_result"
    }
   ],
   "source": [
    "star['Age'].value_counts()"
   ]
  },
  {
   "cell_type": "markdown",
   "metadata": {},
   "source": [
    "**Han Solo's favourability and Age**"
   ]
  },
  {
   "cell_type": "code",
   "execution_count": 51,
   "metadata": {
    "scrolled": false
   },
   "outputs": [
    {
     "data": {
      "image/png": "[encoded data removed]",
      "text/plain": [
       "<Figure size 1080x360 with 1 Axes>"
      ]
     },
     "metadata": {
      "needs_background": "light"
     },
     "output_type": "display_data"
    }
   ],
   "source": [
    "#Age and Han Solo's Favourability\n",
    "order11 = ['18-29','30-44','45-60','> 60']\n",
    "grp11 = d1[['Han Solo','Age']].groupby(['Age','Han Solo'])\n",
    "reordr11 = grp11.size().reindex(order11,level=0)\n",
    "reordr11.unstack().plot.bar(figsize = (15,5),title='Han Solos Favorability with Age')\n",
    "plt.savefig('HanAge.png')"
   ]
  },
  {
   "cell_type": "markdown",
   "metadata": {},
   "source": [
    "**Jar Jar's favourability and Age**"
   ]
  },
  {
   "cell_type": "code",
   "execution_count": 52,
   "metadata": {
    "scrolled": true
   },
   "outputs": [
    {
     "data": {
      "image/png": "[encoded data removed]",
      "text/plain": [
       "<Figure size 1080x360 with 1 Axes>"
      ]
     },
     "metadata": {
      "needs_background": "light"
     },
     "output_type": "display_data"
    }
   ],
   "source": [
    "#Age and Jar Jar's Favourability\n",
    "\n",
    "grp22 = d1[['Jar Jar Binks','Age']].groupby(['Age','Jar Jar Binks'])\n",
    "reordr22 = grp22.size().reindex(order11,level=0)\n",
    "reordr22.unstack().plot.bar(figsize = (15,5),title='Jar Jar Binks Favorability with Age')\n",
    "plt.savefig('JarAge.png')"
   ]
  },
  {
   "cell_type": "markdown",
   "metadata": {},
   "source": [
    "**Han Solo's favourability and Education**"
   ]
  },
  {
   "cell_type": "code",
   "execution_count": 53,
   "metadata": {},
   "outputs": [
    {
     "data": {
      "text/plain": [
       "Some college or Associate degree    478\n",
       "Bachelor degree                     321\n",
       "Graduate degree                     275\n",
       "High school degree                  105\n",
       "Less than high school degree          7\n",
       "Name: Education, dtype: int64"
      ]
     },
     "execution_count": 53,
     "metadata": {},
     "output_type": "execute_result"
    }
   ],
   "source": [
    "star['Education'].value_counts()"
   ]
  },
  {
   "cell_type": "code",
   "execution_count": 54,
   "metadata": {},
   "outputs": [
    {
     "data": {
      "image/png": "[encoded data removed]",
      "text/plain": [
       "<Figure size 1080x360 with 1 Axes>"
      ]
     },
     "metadata": {
      "needs_background": "light"
     },
     "output_type": "display_data"
    }
   ],
   "source": [
    "#Education and Han's Favourability \n",
    "order33 = ['Less than high school degree','High school degree','Some college or Associate degree','Bachelor degree','Graduate degree']\n",
    "grp31 = d1[['Han Solo','Education']].groupby(['Education','Han Solo'])\n",
    "reordr31 = grp31.size().reindex(order33,level=0)\n",
    "reordr31.unstack().plot.bar(figsize = (15,5),title='Han Solo Favorability with Education')\n",
    "plt.savefig('HanEdu.png')"
   ]
  },
  {
   "cell_type": "markdown",
   "metadata": {},
   "source": [
    "**Jar Jar's favourability and Education**"
   ]
  },
  {
   "cell_type": "code",
   "execution_count": 55,
   "metadata": {},
   "outputs": [
    {
     "data": {
      "image/png": "[encoded data removed]",
      "text/plain": [
       "<Figure size 1080x360 with 1 Axes>"
      ]
     },
     "metadata": {
      "needs_background": "light"
     },
     "output_type": "display_data"
    }
   ],
   "source": [
    "#Education and Jar Jar's Favourability\n",
    "grp32 = d1[['Jar Jar Binks','Education']].groupby(['Education','Jar Jar Binks'])\n",
    "reordr32 = grp32.size().reindex(order33,level=0)\n",
    "reordr32.unstack().plot.bar(figsize = (15,5),title='Jar Jar Favorability with Education')\n",
    "plt.savefig('JarEdu.png')"
   ]
  },
  {
   "cell_type": "markdown",
   "metadata": {},
   "source": [
    "**Han Solo's favourability and Gender**"
   ]
  },
  {
   "cell_type": "code",
   "execution_count": 56,
   "metadata": {},
   "outputs": [
    {
     "data": {
      "image/png": "[encoded data removed]",
      "text/plain": [
       "<Figure size 1080x360 with 1 Axes>"
      ]
     },
     "metadata": {
      "needs_background": "light"
     },
     "output_type": "display_data"
    }
   ],
   "source": [
    "#Gender and Han's Favourability \n",
    "d1.groupby(['Gender','Han Solo']).size().unstack().plot.bar(figsize = (15,5),title='Han Solo Favorability with Gender')\n",
    "plt.savefig('HanGen.png')"
   ]
  },
  {
   "cell_type": "markdown",
   "metadata": {},
   "source": [
    "**Jar Jar's favourability and Gender**"
   ]
  },
  {
   "cell_type": "code",
   "execution_count": 57,
   "metadata": {},
   "outputs": [
    {
     "data": {
      "image/png": "[encoded data removed]",
      "text/plain": [
       "<Figure size 1080x360 with 1 Axes>"
      ]
     },
     "metadata": {
      "needs_background": "light"
     },
     "output_type": "display_data"
    }
   ],
   "source": [
    "#Gender and Jar Jar's Favourability \n",
    "d1.groupby(['Gender','Jar Jar Binks']).size().unstack().plot.bar(figsize = (15,5),title='Jar Jar Binks Favorability with Gender')\n",
    "plt.savefig('JarGen.png')"
   ]
  },
  {
   "cell_type": "markdown",
   "metadata": {},
   "source": [
    "**Han Solo's favourability and Location**"
   ]
  },
  {
   "cell_type": "code",
   "execution_count": 58,
   "metadata": {},
   "outputs": [
    {
     "data": {
      "image/png": "[encoded data removed]",
      "text/plain": [
       "<Figure size 1080x360 with 1 Axes>"
      ]
     },
     "metadata": {
      "needs_background": "light"
     },
     "output_type": "display_data"
    }
   ],
   "source": [
    "#Location and Han's Favourability \n",
    "d1.groupby(['Location (Census Region)','Han Solo']).size().unstack().plot.bar(figsize = (15,5),title='Han Solo Favorability with Region')\n",
    "plt.savefig('HanLoc.png')"
   ]
  },
  {
   "cell_type": "markdown",
   "metadata": {},
   "source": [
    "**Jar Jar's favourability and Location**"
   ]
  },
  {
   "cell_type": "code",
   "execution_count": 59,
   "metadata": {},
   "outputs": [
    {
     "data": {
      "image/png": "[encoded data removed]",
      "text/plain": [
       "<Figure size 1080x360 with 1 Axes>"
      ]
     },
     "metadata": {
      "needs_background": "light"
     },
     "output_type": "display_data"
    }
   ],
   "source": [
    "#Location and Jar Jar's Favourability\n",
    "d1.groupby(['Location (Census Region)','Jar Jar Binks']).size().unstack().plot.bar(figsize = (15,5),title='Jar Jar Binks Favorability with Region')\n",
    "plt.savefig('JarLoc.png')"
   ]
  },
  {
   "cell_type": "code",
   "execution_count": null,
   "metadata": {},
   "outputs": [],
   "source": []
  }
 ],
 "metadata": {
  "kernelspec": {
   "display_name": "Python 3",
   "language": "python",
   "name": "python3"
  },
  "language_info": {
   "codemirror_mode": {
    "name": "ipython",
    "version": 3
   },
   "file_extension": ".py",
   "mimetype": "text/x-python",
   "name": "python",
   "nbconvert_exporter": "python",
   "pygments_lexer": "ipython3",
   "version": "3.7.4"
  }
 },
 "nbformat": 4,
 "nbformat_minor": 4
}
